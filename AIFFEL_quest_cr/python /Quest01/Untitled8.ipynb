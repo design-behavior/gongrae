{
  "nbformat": 4,
  "nbformat_minor": 0,
  "metadata": {
    "colab": {
      "provenance": [],
      "toc_visible": true,
      "include_colab_link": true
    },
    "kernelspec": {
      "name": "python3",
      "display_name": "Python 3"
    },
    "language_info": {
      "name": "python"
    }
  },
  "cells": [
    {
      "cell_type": "markdown",
      "metadata": {
        "id": "view-in-github",
        "colab_type": "text"
      },
      "source": [
        "<a href=\"https://colab.research.google.com/github/gong-aipel/AIFFEL_quest_cr/blob/main/AIFFEL_quest_cr/python%20/Quest01/Untitled8.ipynb\" target=\"_parent\"><img src=\"https://colab.research.google.com/assets/colab-badge.svg\" alt=\"Open In Colab\"/></a>"
      ]
    },
    {
      "cell_type": "code",
      "execution_count": null,
      "metadata": {
        "id": "7cirq8-_cvhx"
      },
      "outputs": [],
      "source": [
        "print('Hello World')"
      ]
    },
    {
      "cell_type": "code",
      "source": [
        "def is_palindrome(s):\n",
        "    # 공백과 대소문자 구분을 없애기 위해 소문자로 변환하고 공백 제거\n",
        "    s = s.replace(\" \", \"\").lower()\n",
        "\n",
        "    # 문자열을 뒤집은 것과 원본이 같은지 확인\n",
        "    return s == s[::-1]\n",
        "\n",
        "# 입력 받기\n",
        "user_input = input(\"단어를 입력하세요: \")\n",
        "\n",
        "# 결과 출력\n",
        "if is_palindrome(user_input):\n",
        "    print(\"입력된 단어는 회문입니다.\")\n",
        "else:\n",
        "    print(\"입력된 단어는 회문이 아닙니다.\")\n",
        ""
      ],
      "metadata": {
        "colab": {
          "base_uri": "https://localhost:8080/"
        },
        "id": "2WunB0q8o5o6",
        "outputId": "140fe19a-fa95-4d30-a4aa-33ac8f29797b"
      },
      "execution_count": 8,
      "outputs": [
        {
          "output_type": "stream",
          "name": "stdout",
          "text": [
            "단어를 입력하세요: 공옥례\n",
            "입력된 단어는 회문이 아닙니다.\n"
          ]
        }
      ]
    },
    {
      "cell_type": "code",
      "source": [
        "def palindrome(word):\n",
        "# 공백과 대소문자 구분을 없애기 위해 소문자로 변환하고 공백 제거\n",
        "    word_cleaned = word.replace(\" \", \"\").lower()\n",
        "\n",
        "# 문자열을 뒤집은 것과 원본이 같은지 확인\n",
        "    reversed_word = word_cleaned[::-1]\n",
        "\n",
        "# 회문 여부를 반환\n",
        "    return word_cleaned == reversed_word, reversed_word\n",
        "\n",
        "# 입력 받기\n",
        "user_input = input(\"단어를 입력하세요: \")\n",
        "\n",
        "# 회문 여부 확인 및 뒤집힌 단어 출력\n",
        "is_palindrome, reversed_word = palindrome(user_input)\n",
        "\n",
        "# 뒤집힌 단어 먼저 출력\n",
        "print(f\"뒤집힌 단어는: {reversed_word}\")\n",
        "\n",
        "# 결과 출력\n",
        "if is_palindrome:\n",
        "    print(\"입력된 단어는 회문입니다.\")\n",
        "else:\n",
        "    print(\"입력된 단어는 회문이 아닙니다.\")"
      ],
      "metadata": {
        "colab": {
          "base_uri": "https://localhost:8080/"
        },
        "id": "Tmq19rIdtTC_",
        "outputId": "d584b2d2-4030-43e6-bc4f-7a626ec86d7f"
      },
      "execution_count": 24,
      "outputs": [
        {
          "output_type": "stream",
          "name": "stdout",
          "text": [
            "단어를 입력하세요: 공옥례\n",
            "뒤집힌 단어는: 례옥공\n",
            "입력된 단어는 회문이 아닙니다.\n"
          ]
        }
      ]
    }
  ]
}